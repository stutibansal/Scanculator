{
 "cells": [
  {
   "cell_type": "code",
   "execution_count": 3,
   "metadata": {},
   "outputs": [],
   "source": [
    "import pandas as pd\n",
    "from sklearn import svm\n",
    "from sklearn import metrics\n",
    "import joblib"
   ]
  },
  {
   "cell_type": "code",
   "execution_count": 4,
   "metadata": {},
   "outputs": [],
   "source": [
    "dataframe = pd.read_csv(r\"C:\\Users\\STUTI\\downloads\\train_final.csv\")"
   ]
  },
  {
   "cell_type": "code",
   "execution_count": 5,
   "metadata": {},
   "outputs": [],
   "source": [
    "dataframe=dataframe.sample(frac=1).reset_index(drop=True)"
   ]
  },
  {
   "cell_type": "code",
   "execution_count": 6,
   "metadata": {},
   "outputs": [
    {
     "name": "stdout",
     "output_type": "stream",
     "text": [
      "       0  1  2    3    4    5    6    7    8    9  ...  775  776  777  778  \\\n",
      "0      0  0  0    0    0   44   77   92  178  178  ...    0    0    0    0   \n",
      "1      0  0  0    0    0    0  202  202  178  138  ...    0    0    0    0   \n",
      "2      0  0  0    0    0    0    0    0    0    0  ...    0    0    0    0   \n",
      "3      0  0  0    0   22  178  178  178   77   48  ...    0    0    0    0   \n",
      "4      0  0  0  159  193  178  178  178  178  178  ...    0    0    0    0   \n",
      "...   .. .. ..  ...  ...  ...  ...  ...  ...  ...  ...  ...  ...  ...  ...   \n",
      "47499  0  0  0    0    0    0    0    0    0   57  ...    0    0    0    0   \n",
      "47500  0  0  0    0   59   94  178  178   77   21  ...    0   14  220  178   \n",
      "47501  0  0  0    0    0    0    0    0    0    0  ...    0    0    0    0   \n",
      "47502  0  0  7   90  178  178  178  178  178  178  ...    0    0    0    0   \n",
      "47503  0  0  0    0    0    0    0    0    0    0  ...    0    0    0    0   \n",
      "\n",
      "       779  780  781  782  783  784  \n",
      "0        0    0    0    0    0    9  \n",
      "1        0    0    0    0    0    5  \n",
      "2        0    0    0    0    0    6  \n",
      "3        0    0    0    0    0    7  \n",
      "4        0    0    0    0    0    5  \n",
      "...    ...  ...  ...  ...  ...  ...  \n",
      "47499    0    0    0    0    0    0  \n",
      "47500    0    0    0    0    0    9  \n",
      "47501    0    0    0    0    0   10  \n",
      "47502    0    0    0    0    0    9  \n",
      "47503    0    0    0    0    0   11  \n",
      "\n",
      "[47504 rows x 785 columns]\n"
     ]
    }
   ],
   "source": [
    "print(dataframe)"
   ]
  },
  {
   "cell_type": "code",
   "execution_count": 7,
   "metadata": {},
   "outputs": [],
   "source": [
    "X=dataframe.drop(['784'],axis=1)\n",
    "Y=dataframe['784']\n",
    "X_train,Y_train=X[0:44000],Y[0:44000]\n",
    "X_test,Y_test=X[44000:],Y[44000:]"
   ]
  },
  {
   "cell_type": "code",
   "execution_count": 13,
   "metadata": {},
   "outputs": [
    {
     "data": {
      "text/plain": [
       "SVC(kernel="linear")"
      ]
     },
     "execution_count": 13,
     "metadata": {},
     "output_type": "execute_result"
    }
   ],
   "source": [
    "model=svm.SVC(kernel=\"linear\")\n",
    "model.fit(X_train,Y_train)"
   ]
  },
  {
   "cell_type": "code",
   "execution_count": 12,
   "metadata": {},
   "outputs": [
    {
     "data": {
      "text/plain": [
       "['C:\\\\Users\\\\STUTI\\\\downloads\\\\svm_1.sav']"
      ]
     },
     "execution_count": 12,
     "metadata": {},
     "output_type": "execute_result"
    }
   ],
   "source": [
    "joblib.dump(model,r\"C:\\Users\\STUTI\\downloads\\svm_1.sav\")"
   ]
  },
  {
   "cell_type": "code",
   "execution_count": 14,
   "metadata": {},
   "outputs": [],
   "source": [
    "loadmodel=joblib.load(r\"C:\\Users\\STUTI\\downloads\\svm_1.sav\")"
   ]
  },
  {
   "cell_type": "code",
   "execution_count": 16,
   "metadata": {},
   "outputs": [
    {
     "name": "stdout",
     "output_type": "stream",
     "text": [
      "[ 2  5  7 ... 10  9 11]\n"
     ]
    }
   ],
   "source": [
    "predictions=loadmodel.predict(X_test)\n",
    "print(predictions)"
   ]
  },
  {
   "cell_type": "code",
   "execution_count": 17,
   "metadata": {},
   "outputs": [
    {
     "name": "stdout",
     "output_type": "stream",
     "text": [
      "model accuracy 0.9788812785388128\n"
     ]
    }
   ],
   "source": [
    "print(\"model accuracy\",metrics.accuracy_score(Y_test,predictions))"
   ]
  },
  {
   "cell_type": "code",
   "execution_count": null,
   "metadata": {},
   "outputs": [],
   "source": []
  }
 ],
 "metadata": {
  "kernelspec": {
   "display_name": "Python 3",
   "language": "python",
   "name": "python3"
  },
  "language_info": {
   "codemirror_mode": {
    "name": "ipython",
    "version": 3
   },
   "file_extension": ".py",
   "mimetype": "text/x-python",
   "name": "python",
   "nbconvert_exporter": "python",
   "pygments_lexer": "ipython3",
   "version": "3.8.5"
  }
 },
 "nbformat": 4,
 "nbformat_minor": 4
}
